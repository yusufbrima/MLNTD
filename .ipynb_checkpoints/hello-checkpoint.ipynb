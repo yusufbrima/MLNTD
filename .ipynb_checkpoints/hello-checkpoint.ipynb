{
 "cells": [
  {
   "cell_type": "code",
   "execution_count": 1,
   "id": "e4008a42-d4de-4a01-8451-c627168ec63b",
   "metadata": {},
   "outputs": [
    {
     "name": "stderr",
     "output_type": "stream",
     "text": [
      "2025-03-23 15:30:32.634069: I tensorflow/core/util/port.cc:153] oneDNN custom operations are on. You may see slightly different numerical results due to floating-point round-off errors from different computation orders. To turn them off, set the environment variable `TF_ENABLE_ONEDNN_OPTS=0`.\n",
      "2025-03-23 15:30:32.638811: I external/local_xla/xla/tsl/cuda/cudart_stub.cc:32] Could not find cuda drivers on your machine, GPU will not be used.\n",
      "2025-03-23 15:30:32.643648: I external/local_xla/xla/tsl/cuda/cudart_stub.cc:32] Could not find cuda drivers on your machine, GPU will not be used.\n",
      "2025-03-23 15:30:32.655871: E external/local_xla/xla/stream_executor/cuda/cuda_fft.cc:467] Unable to register cuFFT factory: Attempting to register factory for plugin cuFFT when one has already been registered\n",
      "WARNING: All log messages before absl::InitializeLog() is called are written to STDERR\n",
      "E0000 00:00:1742740232.676012 2228262 cuda_dnn.cc:8579] Unable to register cuDNN factory: Attempting to register factory for plugin cuDNN when one has already been registered\n",
      "E0000 00:00:1742740232.681925 2228262 cuda_blas.cc:1407] Unable to register cuBLAS factory: Attempting to register factory for plugin cuBLAS when one has already been registered\n",
      "W0000 00:00:1742740232.697961 2228262 computation_placer.cc:177] computation placer already registered. Please check linkage and avoid linking the same target more than once.\n",
      "W0000 00:00:1742740232.697976 2228262 computation_placer.cc:177] computation placer already registered. Please check linkage and avoid linking the same target more than once.\n",
      "W0000 00:00:1742740232.697978 2228262 computation_placer.cc:177] computation placer already registered. Please check linkage and avoid linking the same target more than once.\n",
      "W0000 00:00:1742740232.697979 2228262 computation_placer.cc:177] computation placer already registered. Please check linkage and avoid linking the same target more than once.\n",
      "2025-03-23 15:30:32.703393: I tensorflow/core/platform/cpu_feature_guard.cc:210] This TensorFlow binary is optimized to use available CPU instructions in performance-critical operations.\n",
      "To enable the following instructions: AVX2 AVX512F AVX512_VNNI FMA, in other operations, rebuild TensorFlow with the appropriate compiler flags.\n"
     ]
    }
   ],
   "source": [
    "import pandas as pd\n",
    "import numpy as np\n",
    "import seaborn as sns\n",
    "from fuzzywuzzy import process\n",
    "from wordcloud import WordCloud\n",
    "import matplotlib.pyplot as plt\n",
    "import networkx as nx\n",
    "import spacy\n",
    "from transformers import pipeline\n",
    "# Load spaCy's pre-trained language model\n",
    "nlp = spacy.load(\"en_core_web_sm\")"
   ]
  },
  {
   "cell_type": "code",
   "execution_count": 2,
   "id": "c7a1a6f6-9e49-4223-be9c-b7e0d06adf8e",
   "metadata": {},
   "outputs": [],
   "source": [
    "fig_dir = './figures/'"
   ]
  },
  {
   "cell_type": "code",
   "execution_count": 3,
   "id": "3dbc921c-7a04-4f2c-abca-216e9dd5bce5",
   "metadata": {},
   "outputs": [],
   "source": [
    "# Specify the path to your .xls file\n",
    "file_path = 'data/References.xlsx'\n",
    "\n",
    "# Access each sheet by its name\n",
    "# Read both sheets into separate DataFrames\n",
    "# Ensure the first row is treated as the header\n",
    "sheet1_df = pd.read_excel(file_path, sheet_name='WoS')  # Replace 'WoS' with the actual sheet name\n",
    "sheet2_df = pd.read_excel(file_path, sheet_name='Scopus')  # Treat the first row as the header\n",
    "# Step 2: Select specific columns to merge\n",
    "# Define the columns to keep\n",
    "columns_to_merge = ['Year', 'Class', 'Affiliations', 'Abstract', 'Keywords', 'Funding', 'Abstract','Title']\n",
    "\n",
    "# Select the columns from each sheet\n",
    "sheet1_selected = sheet1_df[columns_to_merge]\n",
    "sheet2_selected = sheet2_df[columns_to_merge]\n",
    "\n",
    "# Step 3: Merge records from Sheet 1 and Sheet 2\n",
    "# Concatenate the two DataFrames\n",
    "merged_df = pd.concat([sheet1_selected, sheet2_selected], ignore_index=True)"
   ]
  },
  {
   "cell_type": "code",
   "execution_count": 4,
   "id": "fa7254e4-079f-44ca-9956-c211662ea230",
   "metadata": {},
   "outputs": [
    {
     "name": "stdout",
     "output_type": "stream",
     "text": [
      "2\n",
      "0\n"
     ]
    }
   ],
   "source": [
    "print(merged_df['Abstract'].isnull().sum())\n",
    "\n",
    "merged_df['Abstract'] = merged_df['Abstract'].fillna('')\n",
    "\n",
    "\n",
    "print(merged_df['Abstract'].isnull().sum())\n"
   ]
  },
  {
   "cell_type": "code",
   "execution_count": 65,
   "id": "6a374863-d166-44a1-9aaf-800ee79f9ca6",
   "metadata": {},
   "outputs": [
    {
     "data": {
      "text/plain": [
       "0                                                        \n",
       "1       Malaria is a major public health challenge in ...\n",
       "2       The Zika disease caused by the Zika virus was ...\n",
       "3       Objectives: Malaria remains a critical public ...\n",
       "4       Diagnosing malaria using standard techniques i...\n",
       "                              ...                        \n",
       "5480    Neglected tropical diseases continue to create...\n",
       "5481    Wolbachia-based mosquito control strategies ha...\n",
       "5482    Disease mapping has evolved to a powerful fiel...\n",
       "5483    The mapping of malaria risk has a history stre...\n",
       "5484    Despite the persistency of World Health Organi...\n",
       "Name: Abstract, Length: 5485, dtype: object"
      ]
     },
     "execution_count": 65,
     "metadata": {},
     "output_type": "execute_result"
    }
   ],
   "source": [
    "merged_df['Abstract']"
   ]
  },
  {
   "cell_type": "code",
   "execution_count": 66,
   "id": "ea1f007c-4710-4a00-a92c-22a277a9f771",
   "metadata": {},
   "outputs": [
    {
     "name": "stdout",
     "output_type": "stream",
     "text": [
      "Empty DataFrame\n",
      "Columns: [Year, Class, Keywords, Funding, Affiliations, Abstract]\n",
      "Index: []\n",
      "        Year                 Class  \\\n",
      "0        NaN                   NaN   \n",
      "1     2025.0             diagnosis   \n",
      "2     2025.0  treatment monitoring   \n",
      "3     2025.0             prognosis   \n",
      "4     2025.0             diagnosis   \n",
      "...      ...                   ...   \n",
      "5480  2021.0                   NaN   \n",
      "5481  2024.0                   NaN   \n",
      "5482  2019.0                   NaN   \n",
      "5483  2015.0                   NaN   \n",
      "5484  2024.0                   NaN   \n",
      "\n",
      "                                               Keywords  \\\n",
      "0                                                   NaN   \n",
      "1                                                   NaN   \n",
      "2                  OPTIMIZATION; GLUCOSE; DESIGN; TITER   \n",
      "3                             DENGUE-FEVER; RISK; CHINA   \n",
      "4                                               MALARIA   \n",
      "...                                                 ...   \n",
      "5480  artificial intelligence; drug discovery; machi...   \n",
      "5481  climate change; mosquito control; public healt...   \n",
      "5482  causality; disease mapping; inference; predict...   \n",
      "5483  Falciparum; Malaria; Mapping; Model-based geos...   \n",
      "5484  Conventional machine learning; Convolutional n...   \n",
      "\n",
      "                                                Funding  \\\n",
      "0                                                   NaN   \n",
      "1     Lacuna Fund [10328-S-003]; Makerere Directorat...   \n",
      "2     Astro34-Brasil; Sao Paulo Research Foundation ...   \n",
      "3     China-Africa cooperation project on malaria co...   \n",
      "4                                                   NaN   \n",
      "...                                                 ...   \n",
      "5480  National Institutes of Health, NIH; Bill and M...   \n",
      "5481                                                NaN   \n",
      "5482  Medical Research Council, MRC, (MR/R015600/1);...   \n",
      "5483      Medical Research Council, MRC, (MR/K00669X/1)   \n",
      "5484              Random Forest; Naive Bayes classifier   \n",
      "\n",
      "                                           Affiliations  \\\n",
      "0                                                   NaN   \n",
      "1     Makerere University; Mulago National Referral ...   \n",
      "2     Universidade de Sao Paulo; Instituto Butantan;...   \n",
      "3     Shanghai Jiao Tong University; Shanghai Jiao T...   \n",
      "4                                                   NaN   \n",
      "...                                                 ...   \n",
      "5480  Monash Institute of Pharmaceutical Sciences, M...   \n",
      "5481  Unit of Medical Statistics and Molecular Epide...   \n",
      "5482  Department of Zoology, University of Oxford, O...   \n",
      "5483  University of Oxford, Department of Zoology, S...   \n",
      "5484  Department of Biomedical Engineering, Faculty ...   \n",
      "\n",
      "                                               Abstract  \\\n",
      "0                                                         \n",
      "1     Malaria is a major public health challenge in ...   \n",
      "2     The Zika disease caused by the Zika virus was ...   \n",
      "3     Objectives: Malaria remains a critical public ...   \n",
      "4     Diagnosing malaria using standard techniques i...   \n",
      "...                                                 ...   \n",
      "5480  Neglected tropical diseases continue to create...   \n",
      "5481  Wolbachia-based mosquito control strategies ha...   \n",
      "5482  Disease mapping has evolved to a powerful fiel...   \n",
      "5483  The mapping of malaria risk has a history stre...   \n",
      "5484  Despite the persistency of World Health Organi...   \n",
      "\n",
      "                                            Methodology  \n",
      "0                                                  None  \n",
      "1     kiruddu national referral hospital, the world ...  \n",
      "2     the world health union, partial-least squares,...  \n",
      "3     ndvi, shapley additive explanations, mae, mach...  \n",
      "4                        mal, noul, labcorp, plasmodium  \n",
      "...                                                 ...  \n",
      "5480  ml, public domain machine learning codes, mach...  \n",
      "5481             wolbachia, mosquito control strategies  \n",
      "5482                                               None  \n",
      "5483                                               None  \n",
      "5484  world health organization, deep learning, tran...  \n",
      "\n",
      "[5485 rows x 7 columns]\n"
     ]
    }
   ],
   "source": [
    "# Function to extract ML methodologies using spaCy\n",
    "def extract_methodologies(text):\n",
    "    doc = nlp(text)  # Process the text with spaCy\n",
    "    methodologies = set()\n",
    "\n",
    "    # Extract noun phrases and named entities\n",
    "    for chunk in doc.noun_chunks:\n",
    "        if any(token.text.lower() in ['network', 'model', 'learning', 'machine', 'algorithm'] for token in chunk):\n",
    "            methodologies.add(chunk.text.lower())\n",
    "\n",
    "    for ent in doc.ents:\n",
    "        if ent.label_ in [\"ORG\", \"PRODUCT\", \"TECH\"]:  # Customize labels if needed\n",
    "            methodologies.add(ent.text.lower())\n",
    "\n",
    "    return ', '.join(methodologies) if methodologies else None\n",
    "\n",
    "print(merged_df[~merged_df['Abstract'].apply(lambda x: isinstance(x, str))])\n",
    "\n",
    "\n",
    "# Apply the function to each row in the Abstract column\n",
    "merged_df['Methodology'] = merged_df['Abstract'].apply(extract_methodologies)\n",
    "\n",
    "# Display the DataFrame\n",
    "print(merged_df)"
   ]
  },
  {
   "cell_type": "code",
   "execution_count": null,
   "id": "43d8f802-258f-4d4c-aa4d-0d5dfef626b4",
   "metadata": {},
   "outputs": [],
   "source": []
  },
  {
   "cell_type": "code",
   "execution_count": 67,
   "id": "a861ace4-a063-401c-9aff-f5fb9e1b94f3",
   "metadata": {},
   "outputs": [],
   "source": [
    "merged_df.to_csv('data/spacy_merged_df.csv', index=False)"
   ]
  },
  {
   "cell_type": "code",
   "execution_count": null,
   "id": "484a77d2-ee1b-4261-a464-07c04fbe0ea8",
   "metadata": {},
   "outputs": [
    {
     "name": "stderr",
     "output_type": "stream",
     "text": [
      "No model was supplied, defaulted to dbmdz/bert-large-cased-finetuned-conll03-english and revision 4c53496 (https://huggingface.co/dbmdz/bert-large-cased-finetuned-conll03-english).\n",
      "Using a pipeline without specifying a model name and revision in production is not recommended.\n"
     ]
    },
    {
     "data": {
      "application/vnd.jupyter.widget-view+json": {
       "model_id": "043594022cac40e38c18bc69176ed0c8",
       "version_major": 2,
       "version_minor": 0
      },
      "text/plain": [
       "model.safetensors:   0%|          | 0.00/1.33G [00:00<?, ?B/s]"
      ]
     },
     "metadata": {},
     "output_type": "display_data"
    },
    {
     "name": "stderr",
     "output_type": "stream",
     "text": [
      "E0000 00:00:1742740350.523264 2228262 cuda_executor.cc:1228] INTERNAL: CUDA Runtime error: Failed call to cudaGetRuntimeVersion: Error loading CUDA libraries. GPU will not be used.: Error loading CUDA libraries. GPU will not be used.\n",
      "E0000 00:00:1742740350.523499 2228262 cuda_executor.cc:1228] INTERNAL: CUDA Runtime error: Failed call to cudaGetRuntimeVersion: Error loading CUDA libraries. GPU will not be used.: Error loading CUDA libraries. GPU will not be used.\n",
      "W0000 00:00:1742740350.553655 2228262 gpu_device.cc:2341] Cannot dlopen some GPU libraries. Please make sure the missing libraries mentioned above are installed properly if you would like to use GPU. Follow the guide at https://www.tensorflow.org/install/gpu for how to download and setup the required libraries for your platform.\n",
      "Skipping registering GPU devices...\n",
      "All PyTorch model weights were used when initializing TFBertForTokenClassification.\n",
      "\n",
      "All the weights of TFBertForTokenClassification were initialized from the PyTorch model.\n",
      "If your task is similar to the task the model of the checkpoint was trained on, you can already use TFBertForTokenClassification for predictions without further training.\n"
     ]
    },
    {
     "data": {
      "application/vnd.jupyter.widget-view+json": {
       "model_id": "dc15f59c81764bc59befe5df064706b8",
       "version_major": 2,
       "version_minor": 0
      },
      "text/plain": [
       "tokenizer_config.json:   0%|          | 0.00/60.0 [00:00<?, ?B/s]"
      ]
     },
     "metadata": {},
     "output_type": "display_data"
    },
    {
     "data": {
      "application/vnd.jupyter.widget-view+json": {
       "model_id": "714c3ce768ff407fbf2aa24dffecc969",
       "version_major": 2,
       "version_minor": 0
      },
      "text/plain": [
       "vocab.txt:   0%|          | 0.00/213k [00:00<?, ?B/s]"
      ]
     },
     "metadata": {},
     "output_type": "display_data"
    },
    {
     "name": "stderr",
     "output_type": "stream",
     "text": [
      "Device set to use 0\n",
      "/net/store/cv/users/ybrima/miniconda3/envs/mlntd/lib/python3.12/site-packages/transformers/pipelines/token_classification.py:170: UserWarning: `grouped_entities` is deprecated and will be removed in version v5.0.0, defaulted to `aggregation_strategy=\"AggregationStrategy.SIMPLE\"` instead.\n",
      "  warnings.warn(\n"
     ]
    }
   ],
   "source": [
    "# Load a pre-trained NER model\n",
    "ner_pipeline = pipeline(\"ner\", grouped_entities=True)\n",
    "\n",
    "# Function to extract ML methodologies using transformers\n",
    "def extract_methodologies_transformers(text):\n",
    "    entities = ner_pipeline(text)\n",
    "    methodologies = set()\n",
    "\n",
    "    for entity in entities:\n",
    "        if entity['entity_group'] in [\"ORG\", \"MISC\", \"TECH\"]:  # Customize labels if needed\n",
    "            methodologies.add(entity['word'].lower())\n",
    "\n",
    "    return ', '.join(methodologies) if methodologies else None\n",
    "\n",
    "# Apply the function to the Abstract column\n",
    "merged_df['Methodology'] = merged_df['Abstract'].apply(extract_methodologies_transformers)\n",
    "\n",
    "# Display the DataFrame\n",
    "print(merged_df.head())"
   ]
  },
  {
   "cell_type": "code",
   "execution_count": null,
   "id": "ee477b38-0090-4ba6-bdb0-322f82c06bc9",
   "metadata": {},
   "outputs": [],
   "source": [
    "merged_df.to_csv('data/ner_merged_df.csv', index=False)"
   ]
  }
 ],
 "metadata": {
  "kernelspec": {
   "display_name": "Python 3 (ipykernel)",
   "language": "python",
   "name": "python3"
  },
  "language_info": {
   "codemirror_mode": {
    "name": "ipython",
    "version": 3
   },
   "file_extension": ".py",
   "mimetype": "text/x-python",
   "name": "python",
   "nbconvert_exporter": "python",
   "pygments_lexer": "ipython3",
   "version": "3.12.9"
  }
 },
 "nbformat": 4,
 "nbformat_minor": 5
}
